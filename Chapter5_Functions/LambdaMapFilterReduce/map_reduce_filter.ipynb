{
 "nbformat": 4,
 "nbformat_minor": 2,
 "metadata": {
  "language_info": {
   "name": "python",
   "codemirror_mode": {
    "name": "ipython",
    "version": 3
   },
   "version": "3.8.1-final"
  },
  "orig_nbformat": 2,
  "file_extension": ".py",
  "mimetype": "text/x-python",
  "name": "python",
  "npconvert_exporter": "python",
  "pygments_lexer": "ipython3",
  "version": 3,
  "kernelspec": {
   "name": "Python 3.8.1 64-bit ('PyUdemy': conda)",
   "display_name": "Python 3.8.1 64-bit ('PyUdemy': conda)",
   "metadata": {
    "interpreter": {
     "hash": "53c9f3a4159f48d83d907bef19770d20ea5efe7306b7b4f4b1cab0d144297c55"
    }
   }
  }
 },
 "cells": [
  {
   "cell_type": "code",
   "execution_count": 1,
   "metadata": {},
   "outputs": [],
   "source": [
    "# Python 'map' function takes:\n",
    "# Mapping from N values to N values\n",
    "# 1.) a function (callable)\n",
    "# 2.) variable number of iterables"
   ]
  },
  {
   "cell_type": "code",
   "execution_count": 1,
   "metadata": {},
   "outputs": [],
   "source": [
    "my_list = [1, 2, 3]"
   ]
  },
  {
   "cell_type": "code",
   "execution_count": 4,
   "metadata": {},
   "outputs": [],
   "source": [
    "def square_value(val):\n",
    "    return val**5"
   ]
  },
  {
   "cell_type": "code",
   "execution_count": 5,
   "metadata": {},
   "outputs": [
    {
     "output_type": "stream",
     "name": "stdout",
     "text": [
      "[1, 32, 243]\n"
     ]
    }
   ],
   "source": [
    "my_list_squared = list(map(square_value, my_list))\n",
    "print(my_list_squared)"
   ]
  },
  {
   "cell_type": "code",
   "execution_count": 6,
   "metadata": {},
   "outputs": [],
   "source": [
    "my_vector1 = [1, 2, 3]\n",
    "my_vector2 = [-1, 4, 0]"
   ]
  },
  {
   "cell_type": "code",
   "execution_count": 7,
   "metadata": {},
   "outputs": [
    {
     "output_type": "stream",
     "name": "stdout",
     "text": [
      "[2, -2, 3]\n"
     ]
    }
   ],
   "source": [
    "my_result = list(map(lambda x, y: x - y, my_vector1, my_vector2))\n",
    "print(my_result)"
   ]
  },
  {
   "cell_type": "code",
   "execution_count": 19,
   "metadata": {},
   "outputs": [],
   "source": [
    "# Python 'reduce' function takes:\n",
    "# Mapping from N values to 1 values\n",
    "# 1.) a function (callable)\n",
    "# 2.) variable number of iterables"
   ]
  },
  {
   "cell_type": "code",
   "execution_count": 8,
   "metadata": {},
   "outputs": [],
   "source": [
    "import functools"
   ]
  },
  {
   "cell_type": "code",
   "execution_count": 9,
   "metadata": {},
   "outputs": [],
   "source": [
    "my_list2 = [10, -2, 5, -10, 7, 23, -1]"
   ]
  },
  {
   "cell_type": "code",
   "execution_count": 10,
   "metadata": {},
   "outputs": [
    {
     "output_type": "stream",
     "name": "stdout",
     "text": [
      "23\n-10\n"
     ]
    }
   ],
   "source": [
    "list_max = functools.reduce(lambda x, y: x if x > y else y, my_list2)\n",
    "print(list_max)\n",
    "list_min = functools.reduce(lambda x, y: x if x < y else y, my_list2)\n",
    "print(list_min)"
   ]
  },
  {
   "cell_type": "code",
   "execution_count": 11,
   "metadata": {},
   "outputs": [],
   "source": [
    "my_list3 = [10, -2, 5, -10, 7, 23, -1]"
   ]
  },
  {
   "cell_type": "code",
   "execution_count": 12,
   "metadata": {},
   "outputs": [
    {
     "output_type": "stream",
     "name": "stdout",
     "text": [
      "[10, 5, 7, 23]\n"
     ]
    }
   ],
   "source": [
    "my_list_filtered = list(filter(lambda x: True if x >= 0 else False, my_list3))\n",
    "\n",
    "print(my_list_filtered)"
   ]
  },
  {
   "cell_type": "code",
   "execution_count": null,
   "metadata": {},
   "outputs": [],
   "source": []
  }
 ]
}