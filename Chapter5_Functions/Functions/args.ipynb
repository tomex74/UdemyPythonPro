{
 "nbformat": 4,
 "nbformat_minor": 2,
 "metadata": {
  "language_info": {
   "name": "python",
   "codemirror_mode": {
    "name": "ipython",
    "version": 3
   },
   "version": "3.8.1-final"
  },
  "orig_nbformat": 2,
  "file_extension": ".py",
  "mimetype": "text/x-python",
  "name": "python",
  "npconvert_exporter": "python",
  "pygments_lexer": "ipython3",
  "version": 3,
  "kernelspec": {
   "name": "Python 3.8.1 64-bit ('PyUdemy': conda)",
   "display_name": "Python 3.8.1 64-bit ('PyUdemy': conda)",
   "metadata": {
    "interpreter": {
     "hash": "53c9f3a4159f48d83d907bef19770d20ea5efe7306b7b4f4b1cab0d144297c55"
    }
   }
  }
 },
 "cells": [
  {
   "cell_type": "code",
   "execution_count": 1,
   "metadata": {},
   "outputs": [],
   "source": [
    "def my_function(a, b, c=10, d=12, e=13):\n",
    "    print('a: {}, b: {}, c: {}, d: {}, e:{}'.format(a, b, c, d, e))"
   ]
  },
  {
   "cell_type": "code",
   "execution_count": 2,
   "metadata": {},
   "outputs": [
    {
     "output_type": "stream",
     "name": "stdout",
     "text": [
      "a: 1, b: 2, c: 10, d: 12, e:13\n"
     ]
    }
   ],
   "source": [
    "my_function(1, 2)"
   ]
  },
  {
   "cell_type": "code",
   "execution_count": 6,
   "metadata": {},
   "outputs": [],
   "source": [
    "# *args: variable number of pos. arguments"
   ]
  },
  {
   "cell_type": "code",
   "execution_count": 3,
   "metadata": {},
   "outputs": [
    {
     "output_type": "stream",
     "name": "stdout",
     "text": [
      "3 4 <class 'tuple'>\na: 1, b: 2, args: (3, 4)\n"
     ]
    }
   ],
   "source": [
    "def my_function2(a, b, *args):\n",
    "    print(*args, type(args))\n",
    "    print('a: {}, b: {}, args: {}'.format(a, b, args))\n",
    "\n",
    "my_function2(1, 2, 3, 4)"
   ]
  },
  {
   "cell_type": "code",
   "execution_count": 5,
   "metadata": {},
   "outputs": [
    {
     "output_type": "stream",
     "name": "stdout",
     "text": [
      "3 4 <class 'tuple'>\na: 1, b: 2, args: (3, 4)\n"
     ]
    }
   ],
   "source": [
    "def my_function3(*args):\n",
    "    print(args, type(args))\n",
    "    print('args: {}'.format(args))\n",
    "\n",
    "my_function2(1, 2, 3, 4)"
   ]
  },
  {
   "cell_type": "code",
   "execution_count": 11,
   "metadata": {},
   "outputs": [
    {
     "output_type": "stream",
     "name": "stdout",
     "text": [
      "3 4 <class 'tuple'>\na: 1, b: 2, args: (3, 4)\n"
     ]
    }
   ],
   "source": [
    "# NORMAL ARGS; *ARGS; DEFAULT ARGS\n",
    "def my_function4(a, *args, b=None):\n",
    "    print(*args, type(args))\n",
    "    print('a: {}, b: {}, args: {}'.format(a, b, args))\n",
    "\n",
    "my_function4(1, 3, 4, b=2)"
   ]
  },
  {
   "cell_type": "code",
   "execution_count": null,
   "metadata": {},
   "outputs": [],
   "source": []
  }
 ]
}