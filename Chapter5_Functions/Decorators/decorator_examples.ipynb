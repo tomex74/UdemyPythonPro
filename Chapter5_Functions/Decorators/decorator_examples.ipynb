{
 "nbformat": 4,
 "nbformat_minor": 2,
 "metadata": {
  "language_info": {
   "name": "python",
   "codemirror_mode": {
    "name": "ipython",
    "version": 3
   },
   "version": "3.8.1-final"
  },
  "orig_nbformat": 2,
  "file_extension": ".py",
  "mimetype": "text/x-python",
  "name": "python",
  "npconvert_exporter": "python",
  "pygments_lexer": "ipython3",
  "version": 3,
  "kernelspec": {
   "name": "Python 3.8.1 64-bit ('PyUdemy': conda)",
   "display_name": "Python 3.8.1 64-bit ('PyUdemy': conda)",
   "metadata": {
    "interpreter": {
     "hash": "53c9f3a4159f48d83d907bef19770d20ea5efe7306b7b4f4b1cab0d144297c55"
    }
   }
  }
 },
 "cells": [
  {
   "cell_type": "markdown",
   "metadata": {},
   "source": [
    "Problem: The function name, its docstring, and parameter list of 'fn' are hidden by the wrapper function.\n",
    "\n",
    "Solution: The functools.wraps decorator, opies the lost metadata from the undecorated function to the decorated closure."
   ]
  },
  {
   "cell_type": "markdown",
   "metadata": {},
   "source": [
    "### DEBUGGER"
   ]
  },
  {
   "cell_type": "code",
   "execution_count": 2,
   "metadata": {},
   "outputs": [],
   "source": [
    "from functools import wraps\n",
    "\n",
    "def debug(fn):\n",
    "    @wraps(fn)\n",
    "    def debugger(*args, **kwargs):\n",
    "        args_values_types = [(a, type(a)) for a in args]\n",
    "        kwargs_values_types = [(k, v, type(v)) for k, v in kwargs.items()]\n",
    "        print(\"Args: {}\".format(args_values_types))\n",
    "        print(\"Kwargs: {}\".format(kwargs_values_types))\n",
    "        print(\"Function {} called\".format(fn.__name__))\n",
    "        fn_result = fn(*args, **kwargs)\n",
    "        print(\"Function {} returns: {}\".format(fn.__name__, fn_result))\n",
    "        return fn_result\n",
    "    return debugger"
   ]
  },
  {
   "cell_type": "code",
   "execution_count": 3,
   "metadata": {},
   "outputs": [
    {
     "output_type": "stream",
     "name": "stdout",
     "text": [
      "Args: [(2, <class 'int'>), (5, <class 'int'>), (6, <class 'int'>)]\nKwargs: []\nFunction print_arguments2 called\nA: 2, B: 5, C: 6\nFunction print_arguments2 returns: None\nNone\n"
     ]
    }
   ],
   "source": [
    "@debug\n",
    "def print_arguments2(a, b, c=None):\n",
    "    print(\"A: {}, B: {}, C: {}\".format(a, b, c))\n",
    "\n",
    "print(print_arguments2(2,5,6))"
   ]
  },
  {
   "cell_type": "code",
   "execution_count": 5,
   "metadata": {},
   "outputs": [],
   "source": [
    "@debug\n",
    "def do_something(a, b, c=None):\n",
    "    \"\"\"Do something.\n",
    "    \"\"\"\n",
    "    return a + b if c else 0\n",
    "\n",
    "@debug\n",
    "def do_something2(a, b, c=None):\n",
    "    return a - b if c else 0\n",
    "\n",
    "@debug\n",
    "def do_something3(a, b, c=None):\n",
    "    return a * b if c else 0\n",
    "\n",
    "@debug\n",
    "def do_something4(a, b, c=None):\n",
    "    return a / b if c else 0\n",
    "    "
   ]
  },
  {
   "cell_type": "code",
   "execution_count": 6,
   "metadata": {},
   "outputs": [
    {
     "output_type": "stream",
     "name": "stdout",
     "text": [
      "Args: [(10, <class 'int'>), (20, <class 'int'>)]\nKwargs: [('c', 1, <class 'int'>)]\nFunction do_something called\nFunction do_something returns: 30\nArgs: [(10, <class 'int'>), (20, <class 'int'>)]\nKwargs: [('c', 1, <class 'int'>)]\nFunction do_something2 called\nFunction do_something2 returns: -10\nArgs: [(10, <class 'int'>), (20, <class 'int'>)]\nKwargs: [('c', 1, <class 'int'>)]\nFunction do_something3 called\nFunction do_something3 returns: 200\nArgs: [(10, <class 'int'>), (20, <class 'int'>)]\nKwargs: [('c', 1, <class 'int'>)]\nFunction do_something4 called\nFunction do_something4 returns: 0.5\n"
     ]
    },
    {
     "output_type": "execute_result",
     "data": {
      "text/plain": [
       "0.5"
      ]
     },
     "metadata": {},
     "execution_count": 6
    }
   ],
   "source": [
    "do_something(10, 20, c=1)\n",
    "do_something2(10, 20, c=1)\n",
    "do_something3(10, 20, c=1)\n",
    "do_something4(10, 20, c=1)"
   ]
  },
  {
   "cell_type": "markdown",
   "metadata": {},
   "source": [
    "#### TIMER"
   ]
  },
  {
   "cell_type": "code",
   "execution_count": 25,
   "metadata": {},
   "outputs": [],
   "source": [
    "import time\n",
    "\n",
    "def timing(fn):\n",
    "    @wraps(fn)\n",
    "    def timer(*args, **kwargs):\n",
    "        start_time = time.perf_counter()\n",
    "        fn_result = fn(*args, **kwargs)\n",
    "        end_time = time.perf_counter()\n",
    "        time_duration = end_time - start_time\n",
    "        print(\"Function {} took: {} s\".format(fn.__name__, time_duration))\n",
    "        return fn_result\n",
    "    return timer"
   ]
  },
  {
   "cell_type": "code",
   "execution_count": 11,
   "metadata": {},
   "outputs": [],
   "source": [
    "@timing\n",
    "def do_something(a, b, c=None):\n",
    "    \"\"\"Do something.\n",
    "    \"\"\"\n",
    "    return a + b if c else 0\n",
    "    "
   ]
  },
  {
   "cell_type": "code",
   "execution_count": 20,
   "metadata": {},
   "outputs": [
    {
     "output_type": "stream",
     "name": "stdout",
     "text": [
      "Function do_something took: -1920115100799.885 ns\n"
     ]
    },
    {
     "output_type": "execute_result",
     "data": {
      "text/plain": [
       "30"
      ]
     },
     "metadata": {},
     "execution_count": 20
    }
   ],
   "source": [
    "do_something(a=10, b=20, c=True)"
   ]
  },
  {
   "cell_type": "code",
   "execution_count": 26,
   "metadata": {},
   "outputs": [],
   "source": [
    "@timing\n",
    "def iterate(n):\n",
    "    val = 0\n",
    "    for i in range(n):\n",
    "        val += i\n",
    "    return val"
   ]
  },
  {
   "cell_type": "code",
   "execution_count": 27,
   "metadata": {},
   "outputs": [
    {
     "output_type": "stream",
     "name": "stdout",
     "text": [
      "Function iterate took: 0.07097533700016356 s\n"
     ]
    },
    {
     "output_type": "execute_result",
     "data": {
      "text/plain": [
       "499999500000"
      ]
     },
     "metadata": {},
     "execution_count": 27
    }
   ],
   "source": [
    "iterate(1_000_000)"
   ]
  },
  {
   "cell_type": "code",
   "execution_count": null,
   "metadata": {},
   "outputs": [],
   "source": []
  }
 ]
}