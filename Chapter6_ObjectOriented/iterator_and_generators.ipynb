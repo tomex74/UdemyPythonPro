{
 "nbformat": 4,
 "nbformat_minor": 2,
 "metadata": {
  "language_info": {
   "name": "python",
   "codemirror_mode": {
    "name": "ipython",
    "version": 3
   },
   "version": "3.8.1-final"
  },
  "orig_nbformat": 2,
  "file_extension": ".py",
  "mimetype": "text/x-python",
  "name": "python",
  "npconvert_exporter": "python",
  "pygments_lexer": "ipython3",
  "version": 3,
  "kernelspec": {
   "name": "Python 3.8.1 64-bit ('PyUdemy': conda)",
   "display_name": "Python 3.8.1 64-bit ('PyUdemy': conda)",
   "metadata": {
    "interpreter": {
     "hash": "53c9f3a4159f48d83d907bef19770d20ea5efe7306b7b4f4b1cab0d144297c55"
    }
   }
  }
 },
 "cells": [
  {
   "cell_type": "code",
   "execution_count": 2,
   "metadata": {},
   "outputs": [
    {
     "output_type": "stream",
     "name": "stdout",
     "text": [
      "1\n2\n3\n4\n5\n"
     ]
    }
   ],
   "source": [
    "my_list = [1, 2, 3, 4, 5]\n",
    "\n",
    "for val in my_list:\n",
    "    print(val)"
   ]
  },
  {
   "cell_type": "code",
   "execution_count": 4,
   "metadata": {},
   "outputs": [
    {
     "output_type": "stream",
     "name": "stdout",
     "text": [
      "<list_iterator object at 0x107da2f70> <class 'list_iterator'>\n1\n2\n3\n4\n"
     ]
    }
   ],
   "source": [
    "my_iter = iter(my_list)\n",
    "\n",
    "print(my_iter, type(my_iter))\n",
    "\n",
    "print(next(my_iter))\n",
    "print(next(my_iter))\n",
    "print(next(my_iter))\n",
    "print(next(my_iter))\n",
    "# print(next(my_iter))"
   ]
  },
  {
   "cell_type": "code",
   "execution_count": 8,
   "metadata": {},
   "outputs": [],
   "source": [
    "class PowerOfTwo:\n",
    "    def __init__(self, N):\n",
    "        self.N = N\n",
    "\n",
    "    def __iter__(self):\n",
    "        self.current_n = 0\n",
    "        return self\n",
    "\n",
    "    def __next__(self):\n",
    "        if self.current_n <= self.N:\n",
    "            current_result = 3**self.current_n\n",
    "            self.current_n += 1\n",
    "            return current_result\n",
    "        else:\n",
    "            raise StopIteration"
   ]
  },
  {
   "cell_type": "code",
   "execution_count": 9,
   "metadata": {
    "tags": []
   },
   "outputs": [
    {
     "output_type": "stream",
     "name": "stdout",
     "text": [
      "1\n3\n9\n27\n81\n243\n729\n2187\n6561\n19683\n59049\n"
     ]
    }
   ],
   "source": [
    "p = PowerOfTwo(10)\n",
    "\n",
    "p_iter = iter(p)\n",
    "\n",
    "for i in p:\n",
    "    \n",
    "    print(i)"
   ]
  },
  {
   "cell_type": "code",
   "execution_count": 10,
   "metadata": {},
   "outputs": [
    {
     "output_type": "stream",
     "name": "stdout",
     "text": [
      "[1, 3, 9, 27, 81, 243, 729, 2187, 6561, 19683, 59049]\n"
     ]
    }
   ],
   "source": [
    "power_of_twos = [power for power in PowerOfTwo(10)]\n",
    "print(power_of_twos)"
   ]
  },
  {
   "cell_type": "markdown",
   "metadata": {},
   "source": [
    "  - Generator: function with at least one yield statement\n",
    "  - Easy to implement, memory efficient, represents infinite stream"
   ]
  },
  {
   "cell_type": "code",
   "execution_count": 11,
   "metadata": {},
   "outputs": [],
   "source": [
    "def PowerOfTwoGenerator(N):\n",
    "    current_n = 0\n",
    "    while current_n <= N:\n",
    "        yield 4**current_n\n",
    "        current_n += 1"
   ]
  },
  {
   "cell_type": "code",
   "execution_count": 12,
   "metadata": {},
   "outputs": [
    {
     "output_type": "stream",
     "name": "stdout",
     "text": [
      "1\n4\n16\n64\n256\n1024\n4096\n16384\n65536\n262144\n1048576\n"
     ]
    }
   ],
   "source": [
    "g = PowerOfTwoGenerator(10)\n",
    "\n",
    "for i in g:\n",
    "    print(i)"
   ]
  },
  {
   "cell_type": "code",
   "execution_count": null,
   "metadata": {},
   "outputs": [],
   "source": []
  }
 ]
}