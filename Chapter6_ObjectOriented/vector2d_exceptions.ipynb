{
 "nbformat": 4,
 "nbformat_minor": 2,
 "metadata": {
  "language_info": {
   "name": "python",
   "codemirror_mode": {
    "name": "ipython",
    "version": 3
   },
   "version": "3.8.1-final"
  },
  "orig_nbformat": 2,
  "file_extension": ".py",
  "mimetype": "text/x-python",
  "name": "python",
  "npconvert_exporter": "python",
  "pygments_lexer": "ipython3",
  "version": 3,
  "kernelspec": {
   "name": "Python 3.8.1 64-bit ('PyUdemy': conda)",
   "display_name": "Python 3.8.1 64-bit ('PyUdemy': conda)",
   "metadata": {
    "interpreter": {
     "hash": "53c9f3a4159f48d83d907bef19770d20ea5efe7306b7b4f4b1cab0d144297c55"
    }
   }
  }
 },
 "cells": [
  {
   "cell_type": "code",
   "execution_count": 13,
   "metadata": {},
   "outputs": [],
   "source": [
    "import numbers\n",
    "from math import sqrt\n",
    "from functools import total_ordering\n",
    "\n",
    "@total_ordering\n",
    "class Vector2D:\n",
    "    def __init__(self, x=0, y=0):\n",
    "        if isinstance(x, numbers.Real) and isinstance(y, numbers.Real):  \n",
    "            self.x = x\n",
    "            self.y = y\n",
    "        else:\n",
    "            raise TypeError('You must pass in int/float values for x and y!')\n",
    "\n",
    "    def __call__(self):\n",
    "        print(\"Calling the __call__ function!\")\n",
    "        return self.__repr__()\n",
    "\n",
    "    def __repr__(self):\n",
    "        return 'vector.Vector2D({}, {})'.format(self.x, self.y)\n",
    "\n",
    "    def __str__(self):\n",
    "        return '({}, {})'.format(self.x, self.y)\n",
    "\n",
    "    def __bool__(self):\n",
    "        return bool(abs(self))\n",
    "\n",
    "    def __abs__(self):\n",
    "        return sqrt(pow(self.x, 2) + pow(self.y, 2))\n",
    "\n",
    "    def check_vector_types(self, vector2):\n",
    "        if not isinstance(self, Vector2D) or not isinstance(vector2, Vector2D):\n",
    "            raise TypeError('You have to pass in two instances of the vector class!')\n",
    "\n",
    "    def __eq__(self, other_vector):\n",
    "        self.check_vector_types(other_vector)\n",
    "        if self.x == other_vector.x and self.y == other_vector.y:\n",
    "            return True\n",
    "        else:\n",
    "            return False\n",
    "\n",
    "    def __lt__(self, other_vector):\n",
    "        self.check_vector_types(other_vector)\n",
    "        if abs(self) < abs(other_vector):\n",
    "            return True\n",
    "        else:\n",
    "            return False\n",
    "        \n",
    "    def __add__(self, other_vector):\n",
    "        self.check_vector_types(other_vector)\n",
    "        x = self.x + other_vector.x\n",
    "        y = self.y + other_vector.y\n",
    "        return Vector2D(x, y)\n",
    "\n",
    "    # try (== 1):\n",
    "    # except (>= 1): \n",
    "    # finally (optional): \n",
    "    def __sub__(self, other_vector):\n",
    "        try:\n",
    "            x = self.x - other_vector.x\n",
    "            y = self.y - other_vector.y\n",
    "            return Vector2D(x, y)\n",
    "        except AttributeError as e:\n",
    "            print(\"AttributeError: {} was raised!\".format(e))\n",
    "            #return self\n",
    "        except Exception as e:\n",
    "            print(\"Exception {}: {} was raised!\".format(type(e), e))\n",
    "\n",
    "    def __mul__(self, other):\n",
    "        if isinstance(other, Vector2D):\n",
    "            return self.x * other.x + self.y * other.y\n",
    "        elif isinstance(other, numbers.Real):\n",
    "            return Vector2D(self.x * other, self.y * other)\n",
    "        else:\n",
    "            raise TypeError('You must pass in a vector instance or an int/float number!')\n",
    "\n",
    "    def __truediv__(self, other):\n",
    "        if isinstance(other, numbers.Real):\n",
    "            if other != 0.0:\n",
    "                return Vector2D(self.x / other, self.y / other)\n",
    "            else:\n",
    "                raise ValueError('You cannot divide by zero!')\n",
    "        else:\n",
    "            raise TypeError('You must pass in an int/float value!')"
   ]
  },
  {
   "cell_type": "code",
   "execution_count": 6,
   "metadata": {},
   "outputs": [],
   "source": [
    "v1 = Vector2D(1, 2)\n",
    "v2 = Vector2D(1, 3)"
   ]
  },
  {
   "cell_type": "code",
   "execution_count": 9,
   "metadata": {},
   "outputs": [
    {
     "output_type": "stream",
     "name": "stdout",
     "text": [
      "AttributeError: 'int' object has no attribute 'x' was raised!\n"
     ]
    },
    {
     "output_type": "execute_result",
     "data": {
      "text/plain": [
       "vector.Vector2D(1, 2)"
      ]
     },
     "metadata": {},
     "execution_count": 9
    }
   ],
   "source": [
    "v1 - 2\n",
    "\n",
    "#print(v1 / 0)"
   ]
  },
  {
   "cell_type": "code",
   "execution_count": 2,
   "metadata": {},
   "outputs": [
    {
     "output_type": "stream",
     "name": "stdout",
     "text": [
      "['ArithmeticError', 'AssertionError', 'AttributeError', 'BlockingIOError', 'BrokenPipeError', 'BufferError', 'ChildProcessError', 'ConnectionAbortedError', 'ConnectionError', 'ConnectionRefusedError', 'ConnectionResetError', 'EOFError', 'EnvironmentError', 'FileExistsError', 'FileNotFoundError', 'FloatingPointError', 'IOError', 'ImportError', 'IndentationError', 'IndexError', 'InterruptedError', 'IsADirectoryError', 'KeyError', 'LookupError', 'MemoryError', 'ModuleNotFoundError', 'NameError', 'NotADirectoryError', 'NotImplementedError', 'OSError', 'OverflowError', 'PermissionError', 'ProcessLookupError', 'RecursionError', 'ReferenceError', 'RuntimeError', 'SyntaxError', 'SystemError', 'TabError', 'TimeoutError', 'TypeError', 'UnboundLocalError', 'UnicodeDecodeError', 'UnicodeEncodeError', 'UnicodeError', 'UnicodeTranslateError', 'ValueError', 'ZeroDivisionError']\n"
     ]
    }
   ],
   "source": [
    "import builtins\n",
    "\n",
    "builtin_list = [builtin for builtin in dir(builtins) if 'Error' in builtin]\n",
    "\n",
    "print(builtin_list)"
   ]
  },
  {
   "cell_type": "code",
   "execution_count": 14,
   "metadata": {},
   "outputs": [
    {
     "output_type": "stream",
     "name": "stdout",
     "text": [
      "AttributeError: 'int' object has no attribute 'x' was raised!\n"
     ]
    },
    {
     "output_type": "execute_result",
     "data": {
      "text/plain": [
       "vector.Vector2D(1, 2)"
      ]
     },
     "metadata": {},
     "execution_count": 14
    }
   ],
   "source": [
    "v1-2"
   ]
  },
  {
   "cell_type": "code",
   "execution_count": null,
   "metadata": {},
   "outputs": [],
   "source": []
  }
 ]
}