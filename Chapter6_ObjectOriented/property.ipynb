{
 "nbformat": 4,
 "nbformat_minor": 2,
 "metadata": {
  "language_info": {
   "name": "python",
   "codemirror_mode": {
    "name": "ipython",
    "version": 3
   },
   "version": "3.8.1-final"
  },
  "orig_nbformat": 2,
  "file_extension": ".py",
  "mimetype": "text/x-python",
  "name": "python",
  "npconvert_exporter": "python",
  "pygments_lexer": "ipython3",
  "version": 3,
  "kernelspec": {
   "name": "python38164bitpyudemyconda8c705f49a8e643418ce4b1ca64c8ab63",
   "display_name": "Python 3.8.1 64-bit ('pyUdemy': conda)"
  }
 },
 "cells": [
  {
   "cell_type": "code",
   "execution_count": 1,
   "metadata": {},
   "outputs": [],
   "source": [
    "class User:\n",
    "    def __init__(self, name, user_id):\n",
    "        self._name = name\n",
    "        self._user_id = user_id\n",
    "\n",
    "    def __str__(self):\n",
    "        return '{}, {}'.format(self._name, self._user_id)\n",
    "\n",
    "    def get_name(self):\n",
    "        return self._name\n",
    "\n",
    "    def set_name(self, new_name):\n",
    "        self._name = new_name "
   ]
  },
  {
   "cell_type": "code",
   "execution_count": 2,
   "metadata": {},
   "outputs": [],
   "source": [
    "class User:\n",
    "    def __init__(self, name, user_id):\n",
    "        self._name = name\n",
    "        self._user_id = user_id\n",
    "\n",
    "    def __str__(self):\n",
    "        return '{}, {}'.format(self._name, self._user_id)\n",
    "\n",
    "    # Getter for \"name\"\n",
    "    @property\n",
    "    def name(self):\n",
    "        return self._name\n",
    "\n",
    "    @name.setter\n",
    "    def name(self, new_name):\n",
    "        self._name = new_name"
   ]
  },
  {
   "cell_type": "code",
   "execution_count": 4,
   "metadata": {},
   "outputs": [
    {
     "output_type": "stream",
     "name": "stdout",
     "text": "Jan, 123\nPeter, 123\n"
    }
   ],
   "source": [
    "u1 = User('Jan', 123)\n",
    "print(u1)\n",
    "u1.name = 'Peter'\n",
    "print(u1)\n",
    "u1.name"
   ]
  }
 ]
}