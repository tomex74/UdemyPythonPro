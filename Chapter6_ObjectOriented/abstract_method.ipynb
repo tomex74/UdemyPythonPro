{
 "cells": [
  {
   "cell_type": "code",
   "execution_count": 1,
   "metadata": {},
   "outputs": [],
   "source": [
    "import abc\n",
    "\n",
    "class Base(metaclass=abc.ABCMeta):\n",
    "    @abc.abstractmethod\n",
    "    def m1(self):\n",
    "        return\n",
    "\n",
    "    @staticmethod\n",
    "    @abc.abstractmethod\n",
    "    def m2(self):\n",
    "        return\n",
    "\n",
    "    @classmethod\n",
    "    @abc.abstractmethod\n",
    "    def m3(self):\n",
    "        return"
   ]
  },
  {
   "cell_type": "code",
   "execution_count": 63,
   "metadata": {},
   "outputs": [],
   "source": [
    "#b = Base()"
   ]
  },
  {
   "cell_type": "code",
   "execution_count": 8,
   "metadata": {},
   "outputs": [],
   "source": [
    "class MyClass1(Base):\n",
    "    def m1(self):\n",
    "        return 'm1'\n",
    "\n",
    "    def m2(self):\n",
    "        return 'm1'\n",
    "\n",
    "    def m3(self):\n",
    "        return 'm1'\n",
    "\n",
    "class MyClass2(Base):\n",
    "    def m1(self):\n",
    "        return 100\n",
    "\n",
    "    def m2(self):\n",
    "        return 2\n",
    "\n",
    "    def m3(self):\n",
    "        return 3"
   ]
  },
  {
   "cell_type": "code",
   "execution_count": 9,
   "metadata": {},
   "outputs": [
    {
     "output_type": "execute_result",
     "data": {
      "text/plain": [
       "'m1'"
      ]
     },
     "metadata": {},
     "execution_count": 9
    }
   ],
   "source": [
    "var = MyClass1()\n",
    "var.m1()"
   ]
  },
  {
   "cell_type": "code",
   "execution_count": 7,
   "metadata": {},
   "outputs": [
    {
     "output_type": "execute_result",
     "data": {
      "text/plain": [
       "100"
      ]
     },
     "metadata": {},
     "execution_count": 7
    }
   ],
   "source": [
    "var2 = MyClass2()\n",
    "var2.m1()"
   ]
  },
  {
   "cell_type": "code",
   "execution_count": 10,
   "metadata": {},
   "outputs": [],
   "source": [
    "class Shape(metaclass=abc.ABCMeta):\n",
    "    def print_math_operations(self):\n",
    "        print(\"Math operations are: compute_perimeter, compute_area\")\n",
    "\n",
    "    @abc.abstractmethod\n",
    "    def print_properties(self):\n",
    "        return\n",
    "\n",
    "    @abc.abstractmethod\n",
    "    def compute_perimeter(self):\n",
    "        return\n",
    "\n",
    "    @abc.abstractmethod\n",
    "    def compute_area(self):\n",
    "        return\n",
    "\n",
    "import math\n",
    "\n",
    "class Circle(Shape):\n",
    "    def __init__(self, radius):\n",
    "        self.radius = radius\n",
    "\n",
    "    def print_properties(self):\n",
    "        print(\"Circle with radius {}\".format(self.radius))\n",
    "\n",
    "    def compute_perimeter(self):\n",
    "        return 2 * math.pi * self.radius\n",
    "\n",
    "    def compute_area(self):\n",
    "        return math.pi**2 * self.radius\n",
    "\n",
    "class Square(Shape):\n",
    "    def __init__(self, a):\n",
    "        self.a = a\n",
    "\n",
    "    def print_properties(self):\n",
    "        print(\"Square with length {}\".format(self.a))\n",
    "\n",
    "    def compute_perimeter(self):\n",
    "        return 4 * self.a\n",
    "\n",
    "    def compute_area(self):\n",
    "        return self.a**2"
   ]
  },
  {
   "cell_type": "code",
   "execution_count": 15,
   "metadata": {},
   "outputs": [
    {
     "output_type": "stream",
     "name": "stdout",
     "text": [
      "Circle with radius 4\n39.47841760435743\nMath operations are: compute_perimeter, compute_area\nSquare with length 5\n25\nMath operations are: compute_perimeter, compute_area\n"
     ]
    }
   ],
   "source": [
    "c = Circle(4)\n",
    "c.print_properties()\n",
    "print(c.compute_area())\n",
    "c.print_math_operations()\n",
    "\n",
    "\n",
    "s = Square(5)\n",
    "s.print_properties()\n",
    "print(s.compute_area())\n",
    "s.print_math_operations()"
   ]
  },
  {
   "cell_type": "code",
   "execution_count": null,
   "metadata": {},
   "outputs": [],
   "source": []
  }
 ],
 "metadata": {
  "language_info": {
   "codemirror_mode": {
    "name": "ipython",
    "version": 3
   },
   "file_extension": ".py",
   "mimetype": "text/x-python",
   "name": "python",
   "nbconvert_exporter": "python",
   "pygments_lexer": "ipython3",
   "version": "3.8.1-final"
  },
  "orig_nbformat": 2,
  "kernelspec": {
   "name": "Python 3.8.1 64-bit ('PyUdemy': conda)",
   "display_name": "Python 3.8.1 64-bit ('PyUdemy': conda)",
   "metadata": {
    "interpreter": {
     "hash": "53c9f3a4159f48d83d907bef19770d20ea5efe7306b7b4f4b1cab0d144297c55"
    }
   }
  }
 },
 "nbformat": 4,
 "nbformat_minor": 2
}