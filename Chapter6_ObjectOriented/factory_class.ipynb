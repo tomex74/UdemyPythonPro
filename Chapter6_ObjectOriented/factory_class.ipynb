{
 "nbformat": 4,
 "nbformat_minor": 2,
 "metadata": {
  "language_info": {
   "name": "python",
   "codemirror_mode": {
    "name": "ipython",
    "version": 3
   },
   "version": "3.8.1-final"
  },
  "orig_nbformat": 2,
  "file_extension": ".py",
  "mimetype": "text/x-python",
  "name": "python",
  "npconvert_exporter": "python",
  "pygments_lexer": "ipython3",
  "version": 3,
  "kernelspec": {
   "name": "Python 3.8.1 64-bit ('PyUdemy': conda)",
   "display_name": "Python 3.8.1 64-bit ('PyUdemy': conda)",
   "metadata": {
    "interpreter": {
     "hash": "53c9f3a4159f48d83d907bef19770d20ea5efe7306b7b4f4b1cab0d144297c55"
    }
   }
  }
 },
 "cells": [
  {
   "cell_type": "code",
   "execution_count": 5,
   "metadata": {},
   "outputs": [],
   "source": [
    "import math\n",
    "\n",
    "class Pizza:\n",
    "    def __init__(self, radius=36.0, ingredients=None):\n",
    "        self.radius = radius\n",
    "        if self.radius < 28.0:\n",
    "            self.radius = 28.0\n",
    "        elif self.radius > 64.0:\n",
    "            self.radius = 64.0\n",
    "        if ingredients:\n",
    "            self.ingredients = ingredients\n",
    "        else:\n",
    "            self.ingredients = ['cheese', 'tomoatoes']\n",
    "        self.pizza_dough_price = 0.001\n",
    "        self.ingredients_price = 1.50\n",
    "\n",
    "    def __str__(self):\n",
    "        return f'Size={self.radius}, Ingeredients={self.ingredients}, Price={self.price()}'\n",
    "\n",
    "    def add_ingredient(self, ingredients):\n",
    "        self.ingredients.extend(ingredients)\n",
    "\n",
    "    @classmethod\n",
    "    def salami(cls, radius=36.0):\n",
    "        return cls(radius=radius, ingredients=['cheese', 'tomatoes', 'salami'])\n",
    "\n",
    "    @classmethod\n",
    "    def prosciutto(cls, radius=36.0):\n",
    "        return cls(radius=radius, ingredients=['cheese', 'tomatoes', 'ham'])\n",
    "\n",
    "    def price(self):\n",
    "        total_pizza_dough_price = self.pizza_dough_price * Pizza.circle_area(self.radius)\n",
    "        total_ingredients_price = self.ingredients_price * len(self.ingredients)\n",
    "        return round(total_pizza_dough_price + total_ingredients_price, 2)\n",
    "\n",
    "    @staticmethod\n",
    "    def circle_area(radius):\n",
    "        return (radius**2) * math.pi"
   ]
  },
  {
   "cell_type": "code",
   "execution_count": 6,
   "metadata": {},
   "outputs": [
    {
     "output_type": "stream",
     "name": "stdout",
     "text": [
      "Size=28.0, Ingeredients=['cheese', 'tomoatoes', 'pepper'], Price=6.96\n"
     ]
    }
   ],
   "source": [
    "pizza1 = Pizza(radius=28.0)\n",
    "pizza1.add_ingredient(['pepper'])\n",
    "print(pizza1)"
   ]
  },
  {
   "cell_type": "code",
   "execution_count": 8,
   "metadata": {},
   "outputs": [
    {
     "output_type": "stream",
     "name": "stdout",
     "text": [
      "Size=64.0, Ingeredients=['cheese', 'tomatoes', 'salami'], Price=17.37\nSize=28.0, Ingeredients=['cheese', 'tomatoes', 'ham'], Price=6.96\n"
     ]
    }
   ],
   "source": [
    "pizza2 = Pizza.salami( 68)\n",
    "print(pizza2)\n",
    "\n",
    "pizza3 = Pizza.prosciutto(24)\n",
    "print(pizza3)"
   ]
  },
  {
   "cell_type": "code",
   "execution_count": null,
   "metadata": {},
   "outputs": [],
   "source": []
  }
 ]
}