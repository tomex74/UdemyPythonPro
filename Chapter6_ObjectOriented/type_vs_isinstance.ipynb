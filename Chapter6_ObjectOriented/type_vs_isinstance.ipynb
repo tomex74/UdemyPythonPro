{
 "cells": [
  {
   "cell_type": "code",
   "execution_count": 1,
   "metadata": {},
   "outputs": [],
   "source": [
    "class Base(object):\n",
    "    def __init__(self):\n",
    "        pass\n",
    "\n",
    "class A(Base):\n",
    "    def __init__(self):\n",
    "        super().__init__()\n",
    "\n",
    "class B(Base):\n",
    "    def __init__(self):\n",
    "        super().__init__()\n",
    "\n",
    "class C(A, B):\n",
    "    def __init__(self):\n",
    "        super().__init__()"
   ]
  },
  {
   "cell_type": "code",
   "execution_count": 2,
   "metadata": {},
   "outputs": [
    {
     "output_type": "stream",
     "name": "stdout",
     "text": [
      "type(var) == A\nisinstance(var, A)\n"
     ]
    }
   ],
   "source": [
    "var = A()\n",
    "\n",
    "if type(var) == A:\n",
    "    print(\"type(var) == A\")\n",
    "else:\n",
    "    print(\"type(var) != A\")\n",
    "\n",
    "if isinstance(var, A):\n",
    "    print(\"isinstance(var, A)\")\n",
    "else:\n",
    "    print(\"not isinstance(var, A)\")"
   ]
  },
  {
   "cell_type": "code",
   "execution_count": 5,
   "metadata": {},
   "outputs": [
    {
     "output_type": "stream",
     "name": "stdout",
     "text": [
      "<class '__main__.A'>\ntype(var2) != Base\nTrue\nisinstance(var2, Base)\n"
     ]
    }
   ],
   "source": [
    "var2 = A()\n",
    "print(type(var2))\n",
    "if type(var2) == Base:\n",
    "    print(\"type(var2) == Base\")\n",
    "else:\n",
    "    print(\"type(var2) != Base\")\n",
    "print(isinstance(var2, Base))\n",
    "if isinstance(var2, Base):\n",
    "    print(\"isinstance(var2, Base)\")\n",
    "else:\n",
    "    print(\"not isinstance(var2, Base)\")"
   ]
  },
  {
   "cell_type": "code",
   "execution_count": null,
   "metadata": {},
   "outputs": [],
   "source": []
  }
 ],
 "metadata": {
  "language_info": {
   "codemirror_mode": {
    "name": "ipython",
    "version": 3
   },
   "file_extension": ".py",
   "mimetype": "text/x-python",
   "name": "python",
   "nbconvert_exporter": "python",
   "pygments_lexer": "ipython3",
   "version": "3.8.1-final"
  },
  "orig_nbformat": 2,
  "kernelspec": {
   "name": "Python 3.8.1 64-bit ('PyUdemy': conda)",
   "display_name": "Python 3.8.1 64-bit ('PyUdemy': conda)",
   "metadata": {
    "interpreter": {
     "hash": "53c9f3a4159f48d83d907bef19770d20ea5efe7306b7b4f4b1cab0d144297c55"
    }
   }
  }
 },
 "nbformat": 4,
 "nbformat_minor": 2
}