{
 "nbformat": 4,
 "nbformat_minor": 2,
 "metadata": {
  "language_info": {
   "name": "python",
   "codemirror_mode": {
    "name": "ipython",
    "version": 3
   },
   "version": "3.8.1-final"
  },
  "orig_nbformat": 2,
  "file_extension": ".py",
  "mimetype": "text/x-python",
  "name": "python",
  "npconvert_exporter": "python",
  "pygments_lexer": "ipython3",
  "version": 3,
  "kernelspec": {
   "name": "Python 3.8.1 64-bit ('PyUdemy': conda)",
   "display_name": "Python 3.8.1 64-bit ('PyUdemy': conda)",
   "metadata": {
    "interpreter": {
     "hash": "53c9f3a4159f48d83d907bef19770d20ea5efe7306b7b4f4b1cab0d144297c55"
    }
   }
  }
 },
 "cells": [
  {
   "cell_type": "code",
   "execution_count": 3,
   "metadata": {},
   "outputs": [],
   "source": [
    "# Tuple: Immutable Type\n",
    "# List: Mutable Type"
   ]
  },
  {
   "cell_type": "code",
   "execution_count": 7,
   "metadata": {},
   "outputs": [
    {
     "output_type": "stream",
     "name": "stdout",
     "text": [
      "() <class 'tuple'>\n"
     ]
    }
   ],
   "source": [
    "my_tuple1 = ()\n",
    "\n",
    "print(my_tuple1, type(my_tuple1))"
   ]
  },
  {
   "cell_type": "code",
   "execution_count": 11,
   "metadata": {},
   "outputs": [
    {
     "output_type": "stream",
     "name": "stdout",
     "text": [
      "(10, 20, 30) <class 'tuple'>\n"
     ]
    }
   ],
   "source": [
    "# Tuple points to: 0x7ffeeac21830, 0x7ffeeac21970, 0x7ffeeac21ab0\n",
    "my_tuple2 = (10, 20, 30)\n",
    "print(my_tuple2, type(my_tuple2))"
   ]
  },
  {
   "cell_type": "code",
   "execution_count": 12,
   "metadata": {},
   "outputs": [
    {
     "output_type": "stream",
     "name": "stdout",
     "text": [
      "10\n0x1051d5d10\n20\n0x1051d5e50\n30\n0x1051d5f90\n"
     ]
    }
   ],
   "source": [
    "\n",
    "for val in my_tuple2:\n",
    "    print(val)\n",
    "    print(hex(id(val)))"
   ]
  },
  {
   "cell_type": "code",
   "execution_count": 13,
   "metadata": {},
   "outputs": [
    {
     "output_type": "stream",
     "name": "stdout",
     "text": [
      "(10, False, [1, 2, 3]) <class 'tuple'>\n(10, False, [1, 2, 3, 4]) <class 'tuple'>\n"
     ]
    }
   ],
   "source": [
    "my_list = [1, 2, 3]\n",
    "my_tuple3 = (10, False, my_list)\n",
    "\n",
    "print(my_tuple3, type(my_tuple3))\n",
    "\n",
    "my_tuple3[2].append(4)\n",
    "\n",
    "print(my_tuple3, type(my_tuple3))"
   ]
  },
  {
   "cell_type": "code",
   "execution_count": null,
   "metadata": {},
   "outputs": [],
   "source": []
  }
 ]
}