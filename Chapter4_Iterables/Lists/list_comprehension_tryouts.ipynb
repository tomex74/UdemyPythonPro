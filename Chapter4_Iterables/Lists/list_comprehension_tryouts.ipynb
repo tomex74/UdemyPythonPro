{
 "metadata": {
  "language_info": {
   "codemirror_mode": {
    "name": "ipython",
    "version": 3
   },
   "file_extension": ".py",
   "mimetype": "text/x-python",
   "name": "python",
   "nbconvert_exporter": "python",
   "pygments_lexer": "ipython3",
   "version": "3.8.1-final"
  },
  "orig_nbformat": 2,
  "kernelspec": {
   "name": "Python 3.8.1 64-bit ('PyUdemy': conda)",
   "display_name": "Python 3.8.1 64-bit ('PyUdemy': conda)",
   "metadata": {
    "interpreter": {
     "hash": "53c9f3a4159f48d83d907bef19770d20ea5efe7306b7b4f4b1cab0d144297c55"
    }
   }
  }
 },
 "nbformat": 4,
 "nbformat_minor": 2,
 "cells": [
  {
   "cell_type": "code",
   "execution_count": 14,
   "metadata": {},
   "outputs": [
    {
     "output_type": "stream",
     "name": "stdout",
     "text": [
      "hallo+hallo+hallo+hallo+hallo+hallo+hallo+hallo+hallo+hallo+hallo+hallo+hallo+hallo+hallo+hallo+hallo+hallo+hallo+hallo+hallo+hallo+hallo+hallo+hallo+hallo+hallo+hallo+hallo+hallo\n"
     ]
    }
   ],
   "source": [
    "my_list1 = \"+\".join(['hallo' for _ in range(30)])\n",
    "print(my_list1)"
   ]
  },
  {
   "cell_type": "code",
   "execution_count": null,
   "metadata": {},
   "outputs": [],
   "source": []
  }
 ]
}