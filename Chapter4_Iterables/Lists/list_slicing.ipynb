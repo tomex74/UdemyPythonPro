{
 "nbformat": 4,
 "nbformat_minor": 2,
 "metadata": {
  "language_info": {
   "name": "python",
   "codemirror_mode": {
    "name": "ipython",
    "version": 3
   },
   "version": "3.8.1-final"
  },
  "orig_nbformat": 2,
  "file_extension": ".py",
  "mimetype": "text/x-python",
  "name": "python",
  "npconvert_exporter": "python",
  "pygments_lexer": "ipython3",
  "version": 3,
  "kernelspec": {
   "name": "Python 3.8.1 64-bit ('PyUdemy': conda)",
   "display_name": "Python 3.8.1 64-bit ('PyUdemy': conda)",
   "metadata": {
    "interpreter": {
     "hash": "53c9f3a4159f48d83d907bef19770d20ea5efe7306b7b4f4b1cab0d144297c55"
    }
   }
  }
 },
 "cells": [
  {
   "cell_type": "code",
   "execution_count": 2,
   "metadata": {},
   "outputs": [],
   "source": [
    "my_list = [-1, 1, -2, 2, -3, 3, -4, 4, -5, 5]"
   ]
  },
  {
   "cell_type": "code",
   "execution_count": 9,
   "metadata": {},
   "outputs": [
    {
     "output_type": "stream",
     "name": "stdout",
     "text": [
      "[5, 4, 3, 2, 1]\n"
     ]
    }
   ],
   "source": [
    "# START(0):END(len(list) => non-inclusive):STEP(1)\n",
    "\n",
    "my_subset_list = my_list[::-2]\n",
    "print(my_subset_list)"
   ]
  },
  {
   "cell_type": "code",
   "execution_count": 6,
   "metadata": {},
   "outputs": [
    {
     "output_type": "stream",
     "name": "stdout",
     "text": [
      "[-1, 1, -2, 2]\n"
     ]
    }
   ],
   "source": [
    "my_subset_list2 = my_list[:4]\n",
    "print(my_subset_list2)"
   ]
  },
  {
   "cell_type": "code",
   "execution_count": 7,
   "metadata": {},
   "outputs": [
    {
     "output_type": "stream",
     "name": "stdout",
     "text": [
      "[-2, 2, -3, 3]\n"
     ]
    }
   ],
   "source": [
    "my_subset_list3 = my_list[2:6]\n",
    "print(my_subset_list3)"
   ]
  },
  {
   "cell_type": "code",
   "execution_count": 8,
   "metadata": {},
   "outputs": [
    {
     "output_type": "stream",
     "name": "stdout",
     "text": [
      "[-2, -3]\n"
     ]
    }
   ],
   "source": [
    "my_subset_list4 = my_list[2:6:2]\n",
    "print(my_subset_list4)"
   ]
  },
  {
   "cell_type": "code",
   "execution_count": 38,
   "metadata": {},
   "outputs": [
    {
     "output_type": "stream",
     "name": "stdout",
     "text": "[-1, -2, -3, -4, -5]\n"
    }
   ],
   "source": [
    "my_subset_list5 = my_list[::2]\n",
    "print(my_subset_list5)"
   ]
  }
 ]
}