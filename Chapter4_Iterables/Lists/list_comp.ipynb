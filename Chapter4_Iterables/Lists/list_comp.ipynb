{
 "nbformat": 4,
 "nbformat_minor": 2,
 "metadata": {
  "language_info": {
   "name": "python",
   "codemirror_mode": {
    "name": "ipython",
    "version": 3
   },
   "version": "3.8.1-final"
  },
  "orig_nbformat": 2,
  "file_extension": ".py",
  "mimetype": "text/x-python",
  "name": "python",
  "npconvert_exporter": "python",
  "pygments_lexer": "ipython3",
  "version": 3,
  "kernelspec": {
   "name": "Python 3.8.1 64-bit ('PyUdemy': conda)",
   "display_name": "Python 3.8.1 64-bit ('PyUdemy': conda)",
   "metadata": {
    "interpreter": {
     "hash": "53c9f3a4159f48d83d907bef19770d20ea5efe7306b7b4f4b1cab0d144297c55"
    }
   }
  }
 },
 "cells": [
  {
   "cell_type": "code",
   "execution_count": 2,
   "metadata": {},
   "outputs": [
    {
     "output_type": "stream",
     "name": "stdout",
     "text": [
      "[0, 1, 2, 3, 4, 5, 6, 7, 8, 9, 10, 11, 12, 13, 14, 15, 16, 17, 18, 19]\n"
     ]
    }
   ],
   "source": [
    "my_list = []\n",
    "\n",
    "for i in range(20):\n",
    "    my_list.append(i)\n",
    "\n",
    "print(my_list)"
   ]
  },
  {
   "cell_type": "code",
   "execution_count": 6,
   "metadata": {},
   "outputs": [
    {
     "output_type": "stream",
     "name": "stdout",
     "text": [
      "['hihi', 'byebye', 'eyeeye']\n"
     ]
    }
   ],
   "source": [
    "my_values = ['hi', 'bye', 'eye']\n",
    "\n",
    "my_list_comp = [val*2 for val in my_values]\n",
    "print(my_list_comp)"
   ]
  },
  {
   "cell_type": "code",
   "execution_count": 8,
   "metadata": {},
   "outputs": [
    {
     "output_type": "stream",
     "name": "stdout",
     "text": [
      "[63, -72, -94, 89, -30, -38, -43, -65, 88, -74]\n"
     ]
    }
   ],
   "source": [
    "import random\n",
    "random.seed(42)\n",
    "\n",
    "my_list_comp2 = [random.randint(-100, 100) for _ in range(10)]\n",
    "print(my_list_comp2)"
   ]
  },
  {
   "cell_type": "code",
   "execution_count": 9,
   "metadata": {},
   "outputs": [
    {
     "output_type": "stream",
     "name": "stdout",
     "text": [
      "[63, 89, 88]\n"
     ]
    }
   ],
   "source": [
    "my_pos_list = [val for val in my_list_comp2 if val >= 0]\n",
    "print(my_pos_list)"
   ]
  },
  {
   "cell_type": "code",
   "execution_count": 10,
   "metadata": {},
   "outputs": [
    {
     "output_type": "stream",
     "name": "stdout",
     "text": [
      "[-72, -94, -30, -38, -43, -65, -74]\n"
     ]
    }
   ],
   "source": [
    "my_neg_list = [val for val in my_list_comp2 if val < 0]\n",
    "print(my_neg_list)"
   ]
  },
  {
   "cell_type": "code",
   "execution_count": 12,
   "metadata": {},
   "outputs": [
    {
     "output_type": "stream",
     "name": "stdout",
     "text": [
      "[900, 1444, 1849]\n"
     ]
    }
   ],
   "source": [
    "# Positive: do nothing\n",
    "# Negative: Square\n",
    "my_computed_list = [val if val >= 0 else val**2 for val in my_list_comp2 if val > -50 and val < 50]\n",
    "print(my_computed_list)"
   ]
  },
  {
   "cell_type": "code",
   "execution_count": null,
   "metadata": {},
   "outputs": [],
   "source": [
    "my_computed_list = []\n",
    "\n",
    "for val in my_list_comp2:\n",
    "    if val > -7:\n",
    "        if val >= 0:\n",
    "            my_computed_list.append(val)\n",
    "        else:\n",
    "            my_computed_list.append(val**2)"
   ]
  },
  {
   "cell_type": "code",
   "execution_count": 21,
   "metadata": {},
   "outputs": [
    {
     "output_type": "stream",
     "name": "stdout",
     "text": "[[8, 3, -9], [-10, -8, -4], [-3, 6, 9], [-10, 7, -4]]\n"
    }
   ],
   "source": [
    "# M 4x3\n",
    "NUM_ROWS = 4\n",
    "NUM_COLS = 3\n",
    "\n",
    "my_matrix = [[random.randint(-10, 10) for col_idx in range(NUM_COLS)] for row_idx in range(NUM_ROWS)]\n",
    "print(my_matrix)"
   ]
  }
 ]
}