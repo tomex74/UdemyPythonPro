{
 "nbformat": 4,
 "nbformat_minor": 2,
 "metadata": {
  "language_info": {
   "name": "python",
   "codemirror_mode": {
    "name": "ipython",
    "version": 3
   },
   "version": "3.8.1-final"
  },
  "orig_nbformat": 2,
  "file_extension": ".py",
  "mimetype": "text/x-python",
  "name": "python",
  "npconvert_exporter": "python",
  "pygments_lexer": "ipython3",
  "version": 3,
  "kernelspec": {
   "name": "Python 3.8.1 64-bit ('PyUdemy': conda)",
   "display_name": "Python 3.8.1 64-bit ('PyUdemy': conda)",
   "metadata": {
    "interpreter": {
     "hash": "53c9f3a4159f48d83d907bef19770d20ea5efe7306b7b4f4b1cab0d144297c55"
    }
   }
  }
 },
 "cells": [
  {
   "cell_type": "code",
   "execution_count": 1,
   "metadata": {},
   "outputs": [
    {
     "output_type": "stream",
     "name": "stdout",
     "text": [
      "{0: 0, 1: 1, 2: 4, 3: 9, 4: 16, 5: 25, 6: 36, 7: 49, 8: 64, 9: 81, 10: 100, 11: 121, 12: 144, 13: 169, 14: 196}\n"
     ]
    }
   ],
   "source": [
    "my_dict = {}\n",
    "\n",
    "for i in range(15):\n",
    "    my_dict[i] = i**2\n",
    "\n",
    "print(my_dict)"
   ]
  },
  {
   "cell_type": "code",
   "execution_count": 6,
   "metadata": {},
   "outputs": [
    {
     "output_type": "stream",
     "name": "stdout",
     "text": [
      "{0: 0, 1: 1, 2: 4, 3: 9, 4: 16, 5: 25, 6: 36, 7: 49, 8: 64, 9: 81, 10: 100, 11: 121, 12: 144, 13: 169, 14: 196}\n"
     ]
    }
   ],
   "source": [
    "my_dict_comp = {val: val**2 for val in range(15)}\n",
    "\n",
    "print(my_dict_comp)"
   ]
  },
  {
   "cell_type": "code",
   "execution_count": 7,
   "metadata": {},
   "outputs": [
    {
     "output_type": "stream",
     "name": "stdout",
     "text": [
      "{0: 0, 2: 4, 4: 16, 6: 36, 8: 64}\n"
     ]
    }
   ],
   "source": [
    "my_dict_comp2 = {val: val**2 for val in range(10) if val % 2 == 0}\n",
    "\n",
    "print(my_dict_comp2)"
   ]
  },
  {
   "cell_type": "code",
   "execution_count": 8,
   "metadata": {},
   "outputs": [
    {
     "output_type": "stream",
     "name": "stdout",
     "text": [
      "{0: 0.0, 2: 1.4142135623730951, 4: 2.0, 6: 36, 8: 64}\n"
     ]
    }
   ],
   "source": [
    "my_dict_comp3 = {val: val**2 if val > 5 else val**(1/2) for val in range(10) if val % 2 == 0}\n",
    "\n",
    "print(my_dict_comp3)"
   ]
  },
  {
   "cell_type": "code",
   "execution_count": 9,
   "metadata": {},
   "outputs": [
    {
     "output_type": "stream",
     "name": "stdout",
     "text": [
      "{0: 0.0, 2: 1.4142135623730951, 4: 2.0, 6: 36, 8: 64}\n"
     ]
    }
   ],
   "source": [
    "my_dict2 = {}\n",
    "\n",
    "for val in range(10):\n",
    "    if val % 2 == 0:\n",
    "        if val > 5:\n",
    "            my_dict2[val] = val**2\n",
    "        else:\n",
    "            my_dict2[val] = val**(1/2)\n",
    "\n",
    "print(my_dict2)"
   ]
  },
  {
   "cell_type": "code",
   "execution_count": 10,
   "metadata": {},
   "outputs": [
    {
     "output_type": "stream",
     "name": "stdout",
     "text": [
      "{'jan': {'firstname': None, 'lastname': None, 'birthday': None}, 'peter': {'firstname': None, 'lastname': None, 'birthday': None}, 'dennis': {'firstname': None, 'lastname': None, 'birthday': None}}\n"
     ]
    }
   ],
   "source": [
    "friends = ['jan', 'peter','dennis']\n",
    "friend_keys =  ['firstname', 'lastname', 'birthday']\n",
    "\n",
    "my_friend_dict1 = {'jan': {'firstname': None, 'lastname': None, 'birthday': None}, \n",
    "                  'peter': {'firstname': None, 'lastname': None, 'birthday': None}, \n",
    "                  'dennis': {'firstname': None, 'lastname': None, 'birthday': None},}\n",
    "\n",
    "print(my_friend_dict1)"
   ]
  },
  {
   "cell_type": "code",
   "execution_count": 12,
   "metadata": {},
   "outputs": [
    {
     "output_type": "stream",
     "name": "stdout",
     "text": [
      "{'jan': {'firstname': None, 'lastname': None, 'birthday': None}, 'peter': {'firstname': None, 'lastname': None, 'birthday': None}, 'dennis': {'firstname': None, 'lastname': None, 'birthday': None}}\n"
     ]
    }
   ],
   "source": [
    "my_friend_dict2 = {}\n",
    "\n",
    "for friend_name in friends:\n",
    "    current_friend_dict = {}\n",
    "    for friend_key in friend_keys:\n",
    "        current_friend_dict[friend_key] = None\n",
    "    my_friend_dict2[friend_name] = current_friend_dict\n",
    "\n",
    "print(my_friend_dict2)"
   ]
  },
  {
   "cell_type": "code",
   "execution_count": 11,
   "metadata": {},
   "outputs": [
    {
     "output_type": "stream",
     "name": "stdout",
     "text": [
      "{'jan': {'firstname': None, 'lastname': None, 'birthday': None}, 'peter': {'firstname': None, 'lastname': None, 'birthday': None}, 'dennis': {'firstname': None, 'lastname': None, 'birthday': None}}\n"
     ]
    }
   ],
   "source": [
    "my_friend_dict3 = {friend_name: {key: None for key in friend_keys} for friend_name in friends}\n",
    "\n",
    "print(my_friend_dict3)"
   ]
  },
  {
   "cell_type": "code",
   "execution_count": null,
   "metadata": {},
   "outputs": [],
   "source": []
  }
 ]
}