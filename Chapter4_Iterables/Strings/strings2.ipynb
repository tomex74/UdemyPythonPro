{
 "nbformat": 4,
 "nbformat_minor": 2,
 "metadata": {
  "language_info": {
   "name": "python",
   "codemirror_mode": {
    "name": "ipython",
    "version": 3
   },
   "version": "3.8.1-final"
  },
  "orig_nbformat": 2,
  "file_extension": ".py",
  "mimetype": "text/x-python",
  "name": "python",
  "npconvert_exporter": "python",
  "pygments_lexer": "ipython3",
  "version": 3,
  "kernelspec": {
   "name": "Python 3.8.1 64-bit ('PyUdemy': conda)",
   "display_name": "Python 3.8.1 64-bit ('PyUdemy': conda)",
   "metadata": {
    "interpreter": {
     "hash": "53c9f3a4159f48d83d907bef19770d20ea5efe7306b7b4f4b1cab0d144297c55"
    }
   }
  }
 },
 "cells": [
  {
   "cell_type": "code",
   "execution_count": 6,
   "metadata": {},
   "outputs": [],
   "source": [
    "# FIRSTNAME LASTNAME\n",
    "my_name = \"Hello my name is Thomas Fritsch the butcher\""
   ]
  },
  {
   "cell_type": "code",
   "execution_count": 11,
   "metadata": {},
   "outputs": [
    {
     "output_type": "stream",
     "name": "stdout",
     "text": [
      "['Hello', 'my', 'name']\n"
     ]
    }
   ],
   "source": [
    "my_firstname = my_name.split(' ')[:3]\n",
    "\n",
    "print(my_firstname)\n"
   ]
  },
  {
   "cell_type": "code",
   "execution_count": 15,
   "metadata": {},
   "outputs": [
    {
     "output_type": "stream",
     "name": "stdout",
     "text": [
      "17\nThomas\n"
     ]
    }
   ],
   "source": [
    "my_firstname_start_idx = my_name.find('T')\n",
    "print(my_firstname_start_idx)\n",
    "\n",
    "my_firstname = my_name[my_firstname_start_idx:my_firstname_start_idx+6]\n",
    "print(my_firstname)"
   ]
  },
  {
   "cell_type": "code",
   "execution_count": 16,
   "metadata": {},
   "outputs": [
    {
     "output_type": "stream",
     "name": "stdout",
     "text": [
      "Peter + Peterson\n"
     ]
    }
   ],
   "source": [
    "my_firstname = 'Peter'\n",
    "my_lastname = 'Peterson'\n",
    "\n",
    "my_name = my_firstname + ' + ' + my_lastname\n",
    "print(my_name)"
   ]
  },
  {
   "cell_type": "code",
   "execution_count": 17,
   "metadata": {},
   "outputs": [
    {
     "output_type": "stream",
     "name": "stdout",
     "text": [
      "Jan Peter Dennis \n"
     ]
    }
   ],
   "source": [
    "friend_names = ['Jan', 'Peter', 'Dennis']\n",
    "\n",
    "output_str = ''\n",
    "for name in friend_names:\n",
    "    output_str += name + ' '\n",
    "\n",
    "print(output_str)"
   ]
  },
  {
   "cell_type": "code",
   "execution_count": 21,
   "metadata": {},
   "outputs": [
    {
     "output_type": "stream",
     "name": "stdout",
     "text": [
      "Jan ** Peter ** Dennis\n"
     ]
    }
   ],
   "source": [
    "output_str2 = ' ** '.join(friend_names)\n",
    "print(output_str2)"
   ]
  },
  {
   "cell_type": "code",
   "execution_count": null,
   "metadata": {},
   "outputs": [],
   "source": []
  }
 ]
}