{
 "nbformat": 4,
 "nbformat_minor": 2,
 "metadata": {
  "language_info": {
   "name": "python",
   "codemirror_mode": {
    "name": "ipython",
    "version": 3
   },
   "version": "3.8.1-final"
  },
  "orig_nbformat": 2,
  "file_extension": ".py",
  "mimetype": "text/x-python",
  "name": "python",
  "npconvert_exporter": "python",
  "pygments_lexer": "ipython3",
  "version": 3,
  "kernelspec": {
   "name": "Python 3.8.1 64-bit ('PyUdemy': conda)",
   "display_name": "Python 3.8.1 64-bit ('PyUdemy': conda)",
   "metadata": {
    "interpreter": {
     "hash": "53c9f3a4159f48d83d907bef19770d20ea5efe7306b7b4f4b1cab0d144297c55"
    }
   }
  }
 },
 "cells": [
  {
   "cell_type": "code",
   "execution_count": 1,
   "metadata": {},
   "outputs": [
    {
     "output_type": "stream",
     "name": "stdout",
     "text": [
      "Hello my name is Peter Peterson\n"
     ]
    }
   ],
   "source": [
    "firstname = 'Peter'\n",
    "lastname = 'Peterson'\n",
    "\n",
    "my_str = \"Hello my name is {0} {1}\".format(firstname, lastname)\n",
    "\n",
    "print(my_str)"
   ]
  },
  {
   "cell_type": "code",
   "execution_count": 2,
   "metadata": {},
   "outputs": [],
   "source": [
    "user_table = {1: 'Peter Peter', 2: 'Jan Schaffranek'}\n",
    "\n",
    "def get_user_name(user_id):\n",
    "    if user_id in user_table:\n",
    "        return user_table[user_id]"
   ]
  },
  {
   "cell_type": "code",
   "execution_count": 3,
   "metadata": {},
   "outputs": [
    {
     "output_type": "stream",
     "name": "stdout",
     "text": [
      "Hello my name is Jan Schaffranek\n"
     ]
    }
   ],
   "source": [
    "user_id = 2\n",
    "my_str = f\"Hello my name is {get_user_name(user_id)}\"\n",
    "\n",
    "print(my_str)"
   ]
  },
  {
   "cell_type": "code",
   "execution_count": 6,
   "metadata": {},
   "outputs": [
    {
     "output_type": "stream",
     "name": "stdout",
     "text": [
      "text...1..text\ntext...3..text\n"
     ]
    }
   ],
   "source": [
    "my_list = [1, 2, 3]\n",
    "my_dict = {'jan': 2, 'peter': 3}\n",
    "\n",
    "my_str2 = f\"text...{my_list[0]}..text\"\n",
    "print(my_str2)\n",
    "\n",
    "my_str3 = f\"text...{my_dict['peter']}..text\"\n",
    "print(my_str3)"
   ]
  },
  {
   "cell_type": "code",
   "execution_count": null,
   "metadata": {},
   "outputs": [],
   "source": []
  }
 ]
}