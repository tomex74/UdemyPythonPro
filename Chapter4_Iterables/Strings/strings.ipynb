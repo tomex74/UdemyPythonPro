{
 "nbformat": 4,
 "nbformat_minor": 2,
 "metadata": {
  "language_info": {
   "name": "python",
   "codemirror_mode": {
    "name": "ipython",
    "version": 3
   },
   "version": "3.8.1-final"
  },
  "orig_nbformat": 2,
  "file_extension": ".py",
  "mimetype": "text/x-python",
  "name": "python",
  "npconvert_exporter": "python",
  "pygments_lexer": "ipython3",
  "version": 3,
  "kernelspec": {
   "name": "Python 3.8.1 64-bit ('PyUdemy': conda)",
   "display_name": "Python 3.8.1 64-bit ('PyUdemy': conda)",
   "metadata": {
    "interpreter": {
     "hash": "53c9f3a4159f48d83d907bef19770d20ea5efe7306b7b4f4b1cab0d144297c55"
    }
   }
  }
 },
 "cells": [
  {
   "cell_type": "code",
   "execution_count": 2,
   "metadata": {},
   "outputs": [
    {
     "output_type": "stream",
     "name": "stdout",
     "text": [
      "dddJan Thomas Fritsch <class 'str'>\nAlex Jones <class 'str'>\n"
     ]
    }
   ],
   "source": [
    "my_name = 'dddJan Thomas Fritsch'\n",
    "your_name = \"Alex Jones\"\n",
    "\n",
    "print(my_name, type(my_name))\n",
    "print(your_name, type(your_name))"
   ]
  },
  {
   "cell_type": "code",
   "execution_count": 3,
   "metadata": {},
   "outputs": [
    {
     "output_type": "stream",
     "name": "stdout",
     "text": [
      "Dddjan thomas fritsch\ndddjan thomas fritsch\n"
     ]
    }
   ],
   "source": [
    "print(my_name.capitalize())\n",
    "print(my_name.lower())"
   ]
  },
  {
   "cell_type": "code",
   "execution_count": 4,
   "metadata": {},
   "outputs": [
    {
     "output_type": "stream",
     "name": "stdout",
     "text": [
      "['dddJan', 'Thomas', 'Fritsch']\n"
     ]
    }
   ],
   "source": [
    "word_list = my_name.split(' ')\n",
    "\n",
    "print(word_list)"
   ]
  },
  {
   "cell_type": "code",
   "execution_count": 6,
   "metadata": {},
   "outputs": [
    {
     "output_type": "stream",
     "name": "stdout",
     "text": [
      "dddJan Thomas Fritsch\n['dddJan', 'Thomas', 'Fritsch']\n"
     ]
    }
   ],
   "source": [
    "my_name_modified = my_name.strip(' ')\n",
    "\n",
    "print(my_name_modified)\n",
    "\n",
    "word_list = my_name_modified.split(' ')\n",
    "\n",
    "print(word_list)"
   ]
  },
  {
   "cell_type": "code",
   "execution_count": 7,
   "metadata": {},
   "outputs": [
    {
     "output_type": "stream",
     "name": "stdout",
     "text": [
      "DDDJAN THOMAS FRITSCH\n"
     ]
    }
   ],
   "source": [
    "print(my_name_modified.upper())"
   ]
  },
  {
   "cell_type": "code",
   "execution_count": 12,
   "metadata": {},
   "outputs": [
    {
     "output_type": "stream",
     "name": "stdout",
     "text": [
      "True\nTrue\n"
     ]
    }
   ],
   "source": [
    "my_name = 'Peter Peterson'\n",
    "\n",
    "print(my_name.startswith('Pet'))\n",
    "\n",
    "print(my_name.endswith('son'))"
   ]
  },
  {
   "cell_type": "code",
   "execution_count": 13,
   "metadata": {},
   "outputs": [
    {
     "output_type": "stream",
     "name": "stdout",
     "text": [
      "Magnus Magnusson\n"
     ]
    }
   ],
   "source": [
    "if my_name.startswith('Peter'):\n",
    "    my_name = my_name.replace('Peter', 'Magnus')\n",
    "\n",
    "print(my_name)"
   ]
  },
  {
   "cell_type": "code",
   "execution_count": null,
   "metadata": {},
   "outputs": [],
   "source": []
  }
 ]
}