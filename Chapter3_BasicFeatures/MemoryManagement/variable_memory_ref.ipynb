{
 "nbformat": 4,
 "nbformat_minor": 2,
 "metadata": {
  "language_info": {
   "name": "python",
   "codemirror_mode": {
    "name": "ipython",
    "version": 3
   },
   "version": "3.8.3-final"
  },
  "orig_nbformat": 2,
  "file_extension": ".py",
  "mimetype": "text/x-python",
  "name": "python",
  "npconvert_exporter": "python",
  "pygments_lexer": "ipython3",
  "version": 3,
  "kernelspec": {
   "name": "Python 3.8.3 64-bit",
   "display_name": "Python 3.8.3 64-bit",
   "metadata": {
    "interpreter": {
     "hash": "aee8b7b246df8f9039afb4144a1f6fd8d2ca17a180786b69acc140d282b71a49"
    }
   }
  }
 },
 "cells": [
  {
   "cell_type": "code",
   "execution_count": 2,
   "metadata": {},
   "outputs": [],
   "source": [
    "def print_memory_address(var):\n",
    "    print(hex(id(var)))"
   ]
  },
  {
   "cell_type": "code",
   "execution_count": 7,
   "metadata": {},
   "outputs": [
    {
     "output_type": "stream",
     "name": "stdout",
     "text": [
      "0x1057efc00\n"
     ]
    }
   ],
   "source": [
    "my_test_value = 10 # int(10)\n",
    "print_memory_address(my_test_value)"
   ]
  },
  {
   "cell_type": "code",
   "execution_count": 9,
   "metadata": {},
   "outputs": [
    {
     "output_type": "stream",
     "name": "stdout",
     "text": [
      "0x1057effc0\n0x1057effc0\n0x1057effc0\n"
     ]
    }
   ],
   "source": [
    "my_int_value1 = 42\n",
    "my_int_value2 = 42\n",
    "my_int_value3 = 42\n",
    "\n",
    "print_memory_address(my_int_value1)\n",
    "print_memory_address(my_int_value2)\n",
    "print_memory_address(my_int_value3)"
   ]
  },
  {
   "cell_type": "code",
   "execution_count": 11,
   "metadata": {},
   "outputs": [
    {
     "output_type": "stream",
     "name": "stdout",
     "text": [
      "0x107d1b550\n0x107b9ca30\n0x107d1bad0\n"
     ]
    }
   ],
   "source": [
    "my_float_value1 = 42.0\n",
    "my_float_value2 = 42.0\n",
    "my_float_value3 = 42.0\n",
    "\n",
    "print_memory_address(my_float_value1)\n",
    "print_memory_address(my_float_value2)\n",
    "print_memory_address(my_float_value3)"
   ]
  },
  {
   "cell_type": "code",
   "execution_count": 12,
   "metadata": {},
   "outputs": [
    {
     "output_type": "stream",
     "name": "stdout",
     "text": [
      "0x1057b9fa8\n0x1057b9fa8\n"
     ]
    }
   ],
   "source": [
    "my_bool1 = True\n",
    "my_bool2 = True\n",
    "\n",
    "print_memory_address(my_bool1)\n",
    "print_memory_address(my_bool2)"
   ]
  },
  {
   "cell_type": "code",
   "execution_count": 13,
   "metadata": {},
   "outputs": [
    {
     "output_type": "stream",
     "name": "stdout",
     "text": [
      "0x1057b9f88\n0x1057b9f88\n"
     ]
    }
   ],
   "source": [
    "my_bool1 = False\n",
    "my_bool2 = False\n",
    "\n",
    "print_memory_address(my_bool1)\n",
    "print_memory_address(my_bool2)"
   ]
  },
  {
   "cell_type": "code",
   "execution_count": 15,
   "metadata": {},
   "outputs": [
    {
     "output_type": "stream",
     "name": "stdout",
     "text": [
      "0x1057cce70\n0x1057cce70\n"
     ]
    }
   ],
   "source": [
    "my_none1 = None\n",
    "my_none2 = None\n",
    "\n",
    "print_memory_address(my_none1)\n",
    "print_memory_address(my_none2)"
   ]
  },
  {
   "cell_type": "code",
   "execution_count": 36,
   "metadata": {},
   "outputs": [
    {
     "output_type": "stream",
     "name": "stdout",
     "text": "[1, 2, 3]\n[1, 2, 3]\n0x19d3f91d800\n0x19d3f91d800\n0x19d404e0300\n0x19d3f91d800\n"
    }
   ],
   "source": [
    "my_list1 = [1, 2, 3]\n",
    "my_list2 = my_list1\n",
    "\n",
    "print(my_list1)\n",
    "print(my_list2)\n",
    "\n",
    "print_memory_address(my_list1)\n",
    "print_memory_address(my_list2)\n",
    "\n",
    "my_list1 = [-1, -2, -3]\n",
    "\n",
    "print_memory_address(my_list1)\n",
    "print_memory_address(my_list2)"
   ]
  },
  {
   "cell_type": "code",
   "execution_count": 16,
   "metadata": {},
   "outputs": [
    {
     "output_type": "stream",
     "name": "stdout",
     "text": [
      "0x1057efbc0\n0x1057efbc0\n\n0x1057efbc0\n0x1057efb80\n\n0x1057efbc0\n0x1057efbc0\n\n0x1057efb80\n0x1057efba0\n\n0x1057efbc0\n0x1057efbc0\n\n"
     ]
    }
   ],
   "source": [
    "a = 10\n",
    "b = 10\n",
    "\n",
    "print_memory_address(a)\n",
    "print_memory_address(b)\n",
    "print()\n",
    "\n",
    "b = 8\n",
    "\n",
    "print_memory_address(a)\n",
    "print_memory_address(b)\n",
    "print()\n",
    "\n",
    "b = 10\n",
    "\n",
    "print_memory_address(a)\n",
    "print_memory_address(b)\n",
    "print()\n",
    "\n",
    "a = 8\n",
    "b = 9\n",
    "\n",
    "print_memory_address(a)\n",
    "print_memory_address(b)\n",
    "print()\n",
    "\n",
    "a = 10\n",
    "b = 10\n",
    "\n",
    "print_memory_address(a)\n",
    "print_memory_address(b)\n",
    "print()"
   ]
  },
  {
   "cell_type": "code",
   "execution_count": 18,
   "metadata": {},
   "outputs": [
    {
     "output_type": "stream",
     "name": "stdout",
     "text": [
      "c_long(3)\n"
     ]
    }
   ],
   "source": [
    "import ctypes\n",
    "\n",
    "my_list1 = [1, -2, 3]\n",
    "my_list2 = my_list1\n",
    "my_list3 = my_list1\n",
    "\n",
    "print(ctypes.c_long.from_address(id(my_list1)))"
   ]
  },
  {
   "cell_type": "code",
   "execution_count": null,
   "metadata": {},
   "outputs": [],
   "source": []
  }
 ]
}